{
  "nbformat": 4,
  "nbformat_minor": 0,
  "metadata": {
    "colab": {
      "name": "Crear Reggaeton.ipynb",
      "provenance": [],
      "collapsed_sections": [],
      "authorship_tag": "ABX9TyMg1hd3j6VY2dcs2UfTBZBa",
      "include_colab_link": true
    },
    "kernelspec": {
      "name": "python3",
      "display_name": "Python 3"
    },
    "language_info": {
      "name": "python"
    }
  },
  "cells": [
    {
      "cell_type": "markdown",
      "metadata": {
        "id": "view-in-github",
        "colab_type": "text"
      },
      "source": [
        "<a href=\"https://colab.research.google.com/github/DessaHell/DessaHell/blob/main/Crear_Reggaeton.ipynb\" target=\"_parent\"><img src=\"https://colab.research.google.com/assets/colab-badge.svg\" alt=\"Open In Colab\"/></a>"
      ]
    },
    {
      "cell_type": "code",
      "execution_count": 20,
      "metadata": {
        "id": "9d3RenWeES48"
      },
      "outputs": [],
      "source": [
        "import random\n",
        "sujetos = ['papi','bebe', 'rey', 'papi']\n",
        "intenciones = ['yo quiero', 'yo puedo', 'yo vengo a', 'voy a']\n",
        "verbos = ['enceldelte', 'amalte', 'ligal', 'jugal']\n",
        "advs = ['suave', 'lento', 'lapido', 'fuelte']\n",
        "complementos_uno = ['hasta que salga el sol', 'toda la noche', \n",
        "                    'hasta el amanecer','todo el dia']\n",
        "complementos_dos = ['sin anestesia', 'sin compromiso', 'feis to feis', \n",
        "                    'sin miedo'] \n",
        "                             "
      ]
    },
    {
      "cell_type": "code",
      "source": [
        "sujeto_aleatorio = random.choice(sujetos)\n",
        "intencion_aleatorio = random.choice(intenciones)\n",
        "verbo_aleatorio = random.choice(verbos)\n",
        "adv_aleatorio = random.choice(advs)\n",
        "compluno_aleatorio = random.choice(complementos_uno)\n",
        "compldos_aleatorio = random.choice(complementos_dos)"
      ],
      "metadata": {
        "id": "hVjaLODhK13a"
      },
      "execution_count": 21,
      "outputs": []
    },
    {
      "cell_type": "code",
      "source": [
        "print('\\t Verso \\t')\n",
        "print(sujeto_aleatorio, intencion_aleatorio, verbo_aleatorio, adv_aleatorio,\n",
        "      compluno_aleatorio, compldos_aleatorio)"
      ],
      "metadata": {
        "colab": {
          "base_uri": "https://localhost:8080/"
        },
        "id": "B982ibJCMB-z",
        "outputId": "83508247-193c-47e0-deaa-ad79f7d12648"
      },
      "execution_count": 23,
      "outputs": [
        {
          "output_type": "stream",
          "name": "stdout",
          "text": [
            "\t Verso \t\n",
            "papi yo puedo jugal lapido toda la noche sin compromiso\n"
          ]
        }
      ]
    }
  ]
}